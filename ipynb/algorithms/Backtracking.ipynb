{
 "cells": [
  {
   "cell_type": "markdown",
   "metadata": {},
   "source": [
    "## Backtracking"
   ]
  },
  {
   "cell_type": "markdown",
   "metadata": {},
   "source": [
    "### Warmup"
   ]
  },
  {
   "cell_type": "code",
   "execution_count": 3,
   "metadata": {},
   "outputs": [],
   "source": [
    "def combinations(S):\n",
    "    \"\"\"\n",
    "    Given a set S, return list of all subsets of including S and {} itself.\n",
    "    \"\"\"\n",
    "    def backtrack(candidate_idx, partial):\n",
    "        if candidate_idx == len(S):\n",
    "            res.append(partial)\n",
    "        else:\n",
    "            backtrack(candidate_idx + 1, partial)\n",
    "            backtrack(candidate_idx + 1, partial + [S[candidate_idx]])\n",
    "    \n",
    "    res = []\n",
    "    backtrack(0, [])\n",
    "    return res\n",
    "\n",
    "# Tests\n",
    "assert combinations([n for n in range(1, 4)]) == [[], [3], [2], [2, 3], [1], [1, 3], [1, 2], [1, 2, 3]]\n",
    "assert combinations([\"A\", \"B\", \"C\"]) == [[], ['C'], ['B'], ['B', 'C'], ['A'], ['A', 'C'], ['A', 'B'], ['A', 'B', 'C']]"
   ]
  },
  {
   "cell_type": "code",
   "execution_count": 5,
   "metadata": {},
   "outputs": [],
   "source": [
    "def permutations(A):\n",
    "    \"\"\"\n",
    "    Given an array of objects A, return a list of all of its permutations\n",
    "    \"\"\"\n",
    "    def backtrack(candidate_idx, partial):\n",
    "        if candidate_idx == len(A):\n",
    "            res.append(partial)\n",
    "        else:\n",
    "            for c in range(candidate_idx, len(A)):\n",
    "                A[candidate_idx], A[c] = A[c], A[candidate_idx]\n",
    "                backtrack(candidate_idx + 1, partial + [A[candidate_idx]])\n",
    "                A[candidate_idx], A[c] = A[c], A[candidate_idx]\n",
    "    res = []\n",
    "    backtrack(0, [])\n",
    "    return res\n",
    "\n",
    "# Tests\n",
    "assert permutations(list(range(1, 4))) == [[1, 2, 3], [1, 3, 2], [2, 1, 3], [2, 3, 1], [3, 2, 1], [3, 1, 2]]"
   ]
  },
  {
   "cell_type": "markdown",
   "metadata": {},
   "source": [
    "**1. At a popular bar, each customer has a set of favorite drinks, and will happily accept any drink among this set. For example, in the following situation, customer 0 will be satisfied with drinks 0, 1, 3, or 6.**\n",
    "\n",
    "```\n",
    "preferences = {\n",
    "    0: [0, 1, 3, 6],\n",
    "    1: [1, 4, 7],\n",
    "    2: [2, 4, 7, 5],\n",
    "    3: [3, 2, 5],\n",
    "    4: [5, 8]\n",
    "}\n",
    "```\n",
    "\n",
    "**A lazy bartender working at this bar is trying to reduce his effort by limiting the drink recipes he must memorize. Given a dictionary input such as the one above, return the fewest number of drinks he must learn in order to satisfy all customers.**\n",
    "\n",
    "**For the input above, the answer would be 2, as drinks 1 and 5 will satisfy everyone.**"
   ]
  },
  {
   "cell_type": "code",
   "execution_count": 15,
   "metadata": {},
   "outputs": [
    {
     "name": "stdout",
     "output_type": "stream",
     "text": [
      "i: 1, options: [[0], [1], [2], [3], [4], [5], [6], [7], [8]]\n",
      "i: 2, options: [[0, 1], [0, 2], [0, 3], [0, 4], [0, 5], [0, 6], [0, 7], [0, 8], [1, 2], [1, 3], [1, 4], [1, 5], [1, 6], [1, 7], [1, 8], [2, 3], [2, 4], [2, 5], [2, 6], [2, 7], [2, 8], [3, 4], [3, 5], [3, 6], [3, 7], [3, 8], [4, 5], [4, 6], [4, 7], [4, 8], [5, 6], [5, 7], [5, 8], [6, 7], [6, 8], [7, 8]]\n"
     ]
    }
   ],
   "source": [
    "from itertools import combinations\n",
    "\n",
    "def k_size_subsets(A, k):\n",
    "    \"\"\"\n",
    "    Given a set A, returns a list of all subsets of A whose size is `k`\n",
    "    \"\"\"\n",
    "    def backtrack(candidate_idx, partial):\n",
    "        if len(partial) == k:\n",
    "            res.append(partial.copy())\n",
    "        elif candidate_idx >= len(A):\n",
    "            return\n",
    "        else:\n",
    "            backtrack(candidate_idx + 1, partial + [A[candidate_idx]])\n",
    "            backtrack(candidate_idx + 1, partial)\n",
    "    res = []\n",
    "    backtrack(0, [])\n",
    "    return res\n",
    "\n",
    "def make_drinks(preferences):\n",
    "    customers = preferences.keys()\n",
    "    drinks = list(set([x for y in preferences.values() for x in y]))\n",
    "    \n",
    "    def satisfies(option):\n",
    "        return all(set(c).intersection(option) for c in preferences.values())\n",
    "\n",
    "    for i in range(1, len(customers) + 1):\n",
    "        options = k_size_subsets(drinks, i)\n",
    "        for option in options:\n",
    "            if satisfies(option):\n",
    "                return i\n",
    "    \n",
    "# Tests\n",
    "preferences = {\n",
    "    0: [0, 1, 3, 6],\n",
    "    1: [1, 4, 7],\n",
    "    2: [2, 4, 7, 5],\n",
    "    3: [3, 2, 5],\n",
    "    4: [5, 8]\n",
    "}\n",
    "assert make_drinks(preferences) == 2"
   ]
  },
  {
   "cell_type": "code",
   "execution_count": null,
   "metadata": {},
   "outputs": [],
   "source": []
  }
 ],
 "metadata": {
  "kernelspec": {
   "display_name": "Python 3",
   "language": "python",
   "name": "python3"
  },
  "language_info": {
   "codemirror_mode": {
    "name": "ipython",
    "version": 3
   },
   "file_extension": ".py",
   "mimetype": "text/x-python",
   "name": "python",
   "nbconvert_exporter": "python",
   "pygments_lexer": "ipython3",
   "version": "3.6.0"
  }
 },
 "nbformat": 4,
 "nbformat_minor": 2
}
