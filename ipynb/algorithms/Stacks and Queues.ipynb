{
 "cells": [
  {
   "cell_type": "markdown",
   "metadata": {},
   "source": [
    "# Stacks and Queues"
   ]
  },
  {
   "cell_type": "markdown",
   "metadata": {},
   "source": [
    "### Common"
   ]
  },
  {
   "cell_type": "code",
   "execution_count": 2,
   "metadata": {},
   "outputs": [],
   "source": [
    "class Stack:\n",
    "    \"\"\"\n",
    "    Stack wrapper over a list.\n",
    "    \"\"\"\n",
    "    def __init__(self):\n",
    "        self._stack = []\n",
    "    \n",
    "    def push(self, item):\n",
    "        self._stack.append(item)\n",
    "    \n",
    "    def pop(self):\n",
    "        if self._is_empty():\n",
    "            raise IndexError(\"Cannot pop from empty stack.\")\n",
    "        else:\n",
    "            return self._stack.pop()\n",
    "    \n",
    "    def peek(self):\n",
    "        if self._is_empty():\n",
    "            raise IndexError(\"Cannot peek into an empty stack.\")\n",
    "        else:\n",
    "            return self._stack[-1]\n",
    "    \n",
    "    def size(self):\n",
    "        return len(self._stack)\n",
    "    \n",
    "    def _is_empty(self):\n",
    "        return self.size() == 0\n",
    "\n",
    "# Tests\n",
    "def stack_tests():\n",
    "    s = Stack()\n",
    "    s.push(1)\n",
    "    assert s.peek() == 1\n",
    "    assert s.size() == 1\n",
    "    assert s.pop() == 1\n",
    "    assert s.size() == 0\n",
    "    \n",
    "stack_tests()"
   ]
  },
  {
   "cell_type": "markdown",
   "metadata": {},
   "source": [
    "### 1. You are given an array representing the heights of neighboring buildings on a city street, from east to west. The city assessor would like you to write an algorithm that returns how many of these buildings have a view of the setting sun, in order to properly value the street.\n",
    "\n",
    "### For example, given the array [3, 7, 8, 3, 6, 1], you should return 3, since the top floors of the buildings with heights 8, 6, and 1 all have an unobstructed view to the west. \n",
    "\n",
    "### Can you do this using just one forward pass through the array?\n",
    "\n",
    "#### Source: MailChimp"
   ]
  },
  {
   "cell_type": "code",
   "execution_count": 3,
   "metadata": {},
   "outputs": [
    {
     "ename": "TypeError",
     "evalue": "'<=' not supported between instances of 'int' and 'list'",
     "output_type": "error",
     "traceback": [
      "\u001b[0;31m---------------------------------------------------------------------------\u001b[0m",
      "\u001b[0;31mTypeError\u001b[0m                                 Traceback (most recent call last)",
      "\u001b[0;32m<ipython-input-3-8e940e29f7b4>\u001b[0m in \u001b[0;36m<module>\u001b[0;34m()\u001b[0m\n\u001b[1;32m     11\u001b[0m \u001b[0;34m\u001b[0m\u001b[0m\n\u001b[1;32m     12\u001b[0m \u001b[0;31m# Tests\u001b[0m\u001b[0;34m\u001b[0m\u001b[0;34m\u001b[0m\u001b[0m\n\u001b[0;32m---> 13\u001b[0;31m \u001b[0;32massert\u001b[0m \u001b[0;36m3\u001b[0m \u001b[0;34m==\u001b[0m \u001b[0msunset_views\u001b[0m\u001b[0;34m(\u001b[0m\u001b[0;34m[\u001b[0m\u001b[0;36m3\u001b[0m\u001b[0;34m,\u001b[0m \u001b[0;36m7\u001b[0m\u001b[0;34m,\u001b[0m \u001b[0;36m8\u001b[0m\u001b[0;34m,\u001b[0m \u001b[0;36m3\u001b[0m\u001b[0;34m,\u001b[0m \u001b[0;36m6\u001b[0m\u001b[0;34m,\u001b[0m \u001b[0;36m1\u001b[0m\u001b[0;34m]\u001b[0m\u001b[0;34m)\u001b[0m\u001b[0;34m\u001b[0m\u001b[0m\n\u001b[0m",
      "\u001b[0;32m<ipython-input-3-8e940e29f7b4>\u001b[0m in \u001b[0;36msunset_views\u001b[0;34m(buildings)\u001b[0m\n\u001b[1;32m      4\u001b[0m \u001b[0;34m\u001b[0m\u001b[0m\n\u001b[1;32m      5\u001b[0m     \u001b[0;32mfor\u001b[0m \u001b[0mbuilding\u001b[0m \u001b[0;32min\u001b[0m \u001b[0mbuildings\u001b[0m\u001b[0;34m:\u001b[0m\u001b[0;34m\u001b[0m\u001b[0m\n\u001b[0;32m----> 6\u001b[0;31m         \u001b[0;32mwhile\u001b[0m \u001b[0mviews\u001b[0m \u001b[0;32mand\u001b[0m \u001b[0mviews\u001b[0m\u001b[0;34m[\u001b[0m\u001b[0;34m-\u001b[0m\u001b[0;36m1\u001b[0m\u001b[0;34m]\u001b[0m \u001b[0;34m<=\u001b[0m \u001b[0mbuildings\u001b[0m\u001b[0;34m:\u001b[0m\u001b[0;34m\u001b[0m\u001b[0m\n\u001b[0m\u001b[1;32m      7\u001b[0m             \u001b[0mviews\u001b[0m\u001b[0;34m.\u001b[0m\u001b[0mpop\u001b[0m\u001b[0;34m(\u001b[0m\u001b[0;34m)\u001b[0m\u001b[0;34m\u001b[0m\u001b[0m\n\u001b[1;32m      8\u001b[0m         \u001b[0mviews\u001b[0m\u001b[0;34m.\u001b[0m\u001b[0mappend\u001b[0m\u001b[0;34m(\u001b[0m\u001b[0mbuilding\u001b[0m\u001b[0;34m)\u001b[0m\u001b[0;34m\u001b[0m\u001b[0m\n",
      "\u001b[0;31mTypeError\u001b[0m: '<=' not supported between instances of 'int' and 'list'"
     ]
    }
   ],
   "source": [
    "def sunset_views(buildings):\n",
    "    views = []\n",
    "    highest = 0\n",
    "    \n",
    "    for building in buildings:\n",
    "        while views and views[-1] <= buildings:\n",
    "            views.pop()\n",
    "        views.append(building)\n",
    "    \n",
    "    return len(views)\n",
    "\n",
    "# Tests\n",
    "assert 3 == sunset_views([3, 7, 8, 3, 6, 1])"
   ]
  },
  {
   "cell_type": "markdown",
   "metadata": {},
   "source": [
    "Another solution without stacks is implemented as problem 1 under Arrays."
   ]
  }
 ],
 "metadata": {
  "kernelspec": {
   "display_name": "Python 3",
   "language": "python",
   "name": "python3"
  },
  "language_info": {
   "codemirror_mode": {
    "name": "ipython",
    "version": 3
   },
   "file_extension": ".py",
   "mimetype": "text/x-python",
   "name": "python",
   "nbconvert_exporter": "python",
   "pygments_lexer": "ipython3",
   "version": "3.6.0"
  }
 },
 "nbformat": 4,
 "nbformat_minor": 2
}
