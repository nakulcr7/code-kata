{
 "cells": [
  {
   "cell_type": "markdown",
   "metadata": {},
   "source": [
    "## Binary Search Trees"
   ]
  },
  {
   "cell_type": "markdown",
   "metadata": {},
   "source": [
    "### Common"
   ]
  },
  {
   "cell_type": "code",
   "execution_count": 1,
   "metadata": {},
   "outputs": [],
   "source": [
    "class BSTNode:\n",
    "    \"\"\"\n",
    "    Represents a binary search tree node.\n",
    "    \"\"\"\n",
    "    def __init__(self, data, left=None, right=None):\n",
    "        self.data=data\n",
    "        self.left=left\n",
    "        self.right=right"
   ]
  },
  {
   "cell_type": "markdown",
   "metadata": {},
   "source": [
    "**1. Given a sorted array, convert it into a height-balanced binary search tree.**\n",
    "\n",
    "*Source: Etsy*"
   ]
  },
  {
   "cell_type": "code",
   "execution_count": 2,
   "metadata": {},
   "outputs": [],
   "source": [
    "def sorted_array_to_bst_1(A):\n",
    "    \"\"\"\n",
    "    Returns a height-balanced binary search tree given a sorted array.\n",
    "    \"\"\"\n",
    "    def helper(lo, hi):\n",
    "        if lo >= hi:\n",
    "            return None\n",
    "        mid = (lo + hi) // 2\n",
    "        return BSTNode(\n",
    "            data=A[mid],\n",
    "            left=helper(lo, mid - 1),\n",
    "            right=helper(mid + 1, hi)\n",
    "        )\n",
    "        \n",
    "    if not A:\n",
    "        return None\n",
    "    return helper(0, len(A) - 1)\n",
    "\n",
    "# Alternative solution\n",
    "def sorted_array_to_bst_2(A):\n",
    "    \"\"\"\n",
    "    Returns a height-balanced binary search tree given a sorted array.\n",
    "    \"\"\"\n",
    "    if not A:\n",
    "        return None\n",
    "    \n",
    "    mid = len(A) // 2\n",
    "    node = BSTNode(A[mid])\n",
    "    node.left = sorted_array_to_bst_2(A[:mid])\n",
    "    node.right = sorted_array_to_bst_2(A[mid + 1:])\n",
    "    \n",
    "    return node"
   ]
  }
 ],
 "metadata": {
  "kernelspec": {
   "display_name": "Python 3",
   "language": "python",
   "name": "python3"
  },
  "language_info": {
   "codemirror_mode": {
    "name": "ipython",
    "version": 3
   },
   "file_extension": ".py",
   "mimetype": "text/x-python",
   "name": "python",
   "nbconvert_exporter": "python",
   "pygments_lexer": "ipython3",
   "version": "3.6.0"
  }
 },
 "nbformat": 4,
 "nbformat_minor": 2
}
