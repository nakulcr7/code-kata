{
 "cells": [
  {
   "cell_type": "markdown",
   "metadata": {},
   "source": [
    "# Graphs"
   ]
  },
  {
   "cell_type": "markdown",
   "metadata": {},
   "source": [
    "## Common"
   ]
  },
  {
   "cell_type": "code",
   "execution_count": 2,
   "metadata": {},
   "outputs": [],
   "source": [
    "from collections import deque, defaultdict"
   ]
  },
  {
   "cell_type": "markdown",
   "metadata": {},
   "source": [
    "**1. A teacher must divide a class of students into two teams to play dodgeball. Unfortunately, not all the kids get along, and several refuse to be put on the same team as that of their enemies.**\n",
    "\n",
    "**Given an adjacency list of students and their enemies, write an algorithm that finds a satisfactory pair of teams, or returns False if none exists.**\n",
    "\n",
    "***For example*** \n",
    "\n",
    "**Given the following enemy graph you should return the teams {0, 1, 4, 5} and {2, 3}.**\n",
    "\n",
    "```\n",
    "students = {\n",
    "    0: [3],\n",
    "    1: [2],\n",
    "    2: [1, 4],\n",
    "    3: [0, 4, 5],\n",
    "    4: [2, 3],\n",
    "    5: [3]\n",
    "}\n",
    "```\n",
    "\n",
    "**On the other hand, given the input below, you should return False.**\n",
    "\n",
    "```\n",
    "students = {\n",
    "    0: [3],\n",
    "    1: [2],\n",
    "    2: [1, 3, 4],\n",
    "    3: [0, 2, 4, 5],\n",
    "    4: [2, 3],\n",
    "    5: [3]\n",
    "}\n",
    "```\n",
    "*Source: Twitter*"
   ]
  },
  {
   "cell_type": "code",
   "execution_count": 20,
   "metadata": {},
   "outputs": [
    {
     "name": "stdout",
     "output_type": "stream",
     "text": [
      "dict_values([{0, 1, 4, 5}, {2, 3}])\n"
     ]
    }
   ],
   "source": [
    "def make_teams(students):\n",
    "    teams = {0: set(), 1: set()}\n",
    "    visited = set()\n",
    "    \n",
    "    def assign_team(student):\n",
    "        q = deque([(student, 0)])\n",
    "        visited.add(student)\n",
    "        while q:\n",
    "            stu, team = q.popleft()\n",
    "            teams[team].add(stu)\n",
    "            enemies = students.pop(stu, [])\n",
    "            for enemy in enemies:\n",
    "                if enemy in teams[team]:\n",
    "                    return False\n",
    "                elif enemy not in visited:\n",
    "                    q.append((enemy, 1 - team))\n",
    "        return True \n",
    "            \n",
    "    while students:\n",
    "        student = next(iter(students))\n",
    "        if not assign_team(student):\n",
    "            return False\n",
    "    \n",
    "    return teams\n",
    "    \n",
    "\n",
    "# Tests\n",
    "print(make_teams(students = {\n",
    "    0: [3],\n",
    "    1: [2],\n",
    "    2: [1, 4],\n",
    "    3: [0, 4, 5],\n",
    "    4: [2, 3],\n",
    "    5: [3]\n",
    "}).values())\n",
    "\n",
    "assert not make_teams(\n",
    "    students = {\n",
    "        0: [3],\n",
    "        1: [2],\n",
    "        2: [1, 3, 4],\n",
    "        3: [0, 2, 4, 5],\n",
    "        4: [2, 3],\n",
    "        5: [3]\n",
    "    }\n",
    ")"
   ]
  }
 ],
 "metadata": {
  "kernelspec": {
   "display_name": "Python 3",
   "language": "python",
   "name": "python3"
  },
  "language_info": {
   "codemirror_mode": {
    "name": "ipython",
    "version": 3
   },
   "file_extension": ".py",
   "mimetype": "text/x-python",
   "name": "python",
   "nbconvert_exporter": "python",
   "pygments_lexer": "ipython3",
   "version": "3.7.0"
  }
 },
 "nbformat": 4,
 "nbformat_minor": 2
}
