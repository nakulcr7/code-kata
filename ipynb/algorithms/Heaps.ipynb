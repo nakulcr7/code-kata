{
 "cells": [
  {
   "cell_type": "markdown",
   "metadata": {},
   "source": [
    "## Heaps"
   ]
  },
  {
   "cell_type": "markdown",
   "metadata": {},
   "source": [
    "### Common"
   ]
  },
  {
   "cell_type": "code",
   "execution_count": 8,
   "metadata": {},
   "outputs": [],
   "source": [
    "import heapq\n",
    "\n",
    "class MinHeap():\n",
    "    \"\"\"\n",
    "    Heap operations wrapper over heapq\n",
    "    \"\"\"\n",
    "    def __init__(self):\n",
    "        self._h = []\n",
    "    \n",
    "    def push(self, item):\n",
    "        heapq.heappush(self._h, item)\n",
    "    \n",
    "    def pop(self):\n",
    "        if self.is_empty():\n",
    "            raise IndexError(\"Cannot pop from an empty heap.\")\n",
    "        return heapq.heappop(self._h)\n",
    "    \n",
    "    def pushpop(self, item):\n",
    "        return heapq.heappushpop(self._h, item)\n",
    "    \n",
    "    def is_empty(self):\n",
    "        return len(self._h) == 0\n",
    "    \n",
    "# Tests\n",
    "min_heap = MinHeap()\n",
    "min_heap.push(1)\n",
    "min_heap.push(2)\n",
    "assert min_heap.pop() == 1\n",
    "assert min_heap.pushpop(1) == 1\n",
    "min_heap.pop()\n",
    "assert min_heap.is_empty()"
   ]
  },
  {
   "cell_type": "markdown",
   "metadata": {},
   "source": [
    "** 1. The skyline of a city is composed of several buildings of various widths and heights, possibly overlapping one another when viewed from a distance. We can represent the buildings using an array of (left, right, height) tuples, which tell us where on an imaginary x-axis a building begins and ends, and how tall it is. The skyline itself can be described by a list of (x, height) tuples, giving the locations at which the height visible to a distant observer changes, and each new height.**\n",
    "\n",
    "** Given an array of buildings as described above, create a function that returns the skyline.**\n",
    "\n",
    "** For example, suppose the input consists of the buildings [(0, 15, 3), (4, 11, 5), (19, 23, 4)]. In aggregate, these buildings would create a skyline that looks like the one below. **\n",
    "\n",
    "```\n",
    "     ______  \n",
    "    |      |        ___\n",
    " ___|      |___    |   | \n",
    "|   |   B  |   |   | C |\n",
    "| A |      | A |   |   |\n",
    "|   |      |   |   |   |\n",
    "------------------------\n",
    "```\n",
    "\n",
    "** As a result, your function should return [(0, 3), (4, 5), (11, 3), (15, 0), (19, 4), (23, 0)].**\n",
    "\n",
    "*Source: VMWare*\n",
    "\n",
    "*Solution: https://www.dailycodingproblem.com/solution/286?token=7ca6ec130b343acc4d3826807eb72d0da3fa26a5fb1e15d895a4d7cb2d11c5f0a731f0bd*"
   ]
  },
  {
   "cell_type": "code",
   "execution_count": 8,
   "metadata": {},
   "outputs": [
    {
     "name": "stdout",
     "output_type": "stream",
     "text": [
      "buildings: [(0, 15, 3), (4, 11, 5), (11, 11, 0), (15, 15, 0), (19, 23, 4), (23, 23, 0)]\n",
      "Heap: [(-3, 15), (0, inf)]\n",
      "Skyline: [(0, 3)]\n",
      "Heap: [(-5, 11), (0, inf), (-3, 15)]\n",
      "Skyline: [(0, 3), (4, 5)]\n",
      "Heap: [(-3, 15), (0, inf), (0, 11)]\n",
      "Skyline: [(0, 3), (4, 5), (11, 3)]\n",
      "Heap: [(0, 15), (0, inf)]\n",
      "Skyline: [(0, 3), (4, 5), (11, 3), (15, 0)]\n",
      "Heap: [(-4, 23), (0, inf)]\n",
      "Skyline: [(0, 3), (4, 5), (11, 3), (15, 0), (19, 4)]\n",
      "Heap: [(0, 23), (0, inf)]\n",
      "Skyline: [(0, 3), (4, 5), (11, 3), (15, 0), (19, 4), (23, 0)]\n",
      "[(0, 3), (4, 5), (11, 3), (15, 0), (19, 4), (23, 0)]\n",
      "[(0, 3), (4, 5), (11, 3), (15, 0), (19, 4), (23, 0)]\n"
     ]
    }
   ],
   "source": [
    "import heapq\n",
    "\n",
    "def create_skyline(buildings):\n",
    "    buildings += [(r, r, 0) for (_, r, _) in buildings]\n",
    "    buildings.sort(key=lambda x: (x[0], -x[2]))\n",
    "    \n",
    "    skyline = []\n",
    "    heap = [(0, float(\"inf\"))]\n",
    "    \n",
    "    for left, right, height in buildings:\n",
    "        while heap and left >= heap[0][1]:\n",
    "            heapq.heappop(heap)\n",
    "        heapq.heappush(heap, (-height, right))\n",
    "        if not skyline or skyline[-1][-1] != heap[0][0]:\n",
    "            skyline.append((left, -heap[0][0]))\n",
    "    return skyline\n",
    "\n",
    "# Tests\n",
    "assert create_skyline([(0, 15, 3), (4, 11, 5), (19, 23, 4)]) == "
   ]
  },
  {
   "cell_type": "code",
   "execution_count": null,
   "metadata": {},
   "outputs": [],
   "source": []
  }
 ],
 "metadata": {
  "kernelspec": {
   "display_name": "Python 3",
   "language": "python",
   "name": "python3"
  },
  "language_info": {
   "codemirror_mode": {
    "name": "ipython",
    "version": 3
   },
   "file_extension": ".py",
   "mimetype": "text/x-python",
   "name": "python",
   "nbconvert_exporter": "python",
   "pygments_lexer": "ipython3",
   "version": "3.6.0"
  }
 },
 "nbformat": 4,
 "nbformat_minor": 2
}
