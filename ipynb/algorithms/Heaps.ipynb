{
 "cells": [
  {
   "cell_type": "markdown",
   "metadata": {},
   "source": [
    "## Heaps"
   ]
  },
  {
   "cell_type": "markdown",
   "metadata": {},
   "source": [
    "### Common"
   ]
  },
  {
   "cell_type": "code",
   "execution_count": 3,
   "metadata": {},
   "outputs": [],
   "source": [
    "import heapq\n",
    "\n",
    "class MinHeap:\n",
    "    \"\"\"\n",
    "    MinHeap wrapper over `heapq`\n",
    "    \"\"\"\n",
    "    def __init__(self):\n",
    "        self._heap = []\n",
    "    \n",
    "    def push(self, item):\n",
    "        heapq.heappush(self._heap, item)\n",
    "    \n",
    "    def pop(self):\n",
    "        if self._is_empty():\n",
    "            raise ValueError(\"Cannot pop from an empty heap\")\n",
    "        else:\n",
    "            return heapq.heappop(self._heap)\n",
    "    \n",
    "    def size(self):\n",
    "        return len(self._heap)\n",
    "    \n",
    "    def _is_empty(self):\n",
    "        return self.size() == 0"
   ]
  },
  {
   "cell_type": "markdown",
   "metadata": {},
   "source": [
    "**1. On election day, a voting machine writes data in the form `(voter_id, candidate_id)` to a text file. Write a program that reads this file as a stream and returns the top 3 candidates at any given time. If you find a voter voting more than once, report this as fraud.**\n",
    "\n",
    "*Source: Uber*"
   ]
  },
  {
   "cell_type": "code",
   "execution_count": 4,
   "metadata": {},
   "outputs": [
    {
     "ename": "SyntaxError",
     "evalue": "invalid syntax (<ipython-input-4-0d845b130cab>, line 1)",
     "output_type": "error",
     "traceback": [
      "\u001b[0;36m  File \u001b[0;32m\"<ipython-input-4-0d845b130cab>\"\u001b[0;36m, line \u001b[0;32m1\u001b[0m\n\u001b[0;31m    class VoteReporter\u001b[0m\n\u001b[0m                      ^\u001b[0m\n\u001b[0;31mSyntaxError\u001b[0m\u001b[0;31m:\u001b[0m invalid syntax\n"
     ]
    }
   ],
   "source": [
    "from collections import defaultdict\n",
    "import threading\n",
    "import time\n",
    "\n",
    "\n",
    "class VoteReporter:\n",
    "    def __init__(self, data_stream, k=3):\n",
    "        self.data_stream = data_stream\n",
    "        self.k = k\n",
    "        self.poll_interval = poll_interval\n",
    "        self.voters = {}\n",
    "        self.tally = defaultdict(int)\n",
    "        self.frauds = []\n",
    "        self.stream_done = False\n",
    "        self.run()\n",
    "    \n",
    "    def run(self):\n",
    "        t1 = threading.Thread(target=self.read_data)\n",
    "        t2 = threading.Thread(target=self.get_top_candidates)\n",
    "\n",
    "        for thread in (t1, t2):\n",
    "            thread.start()\n",
    "            \n",
    "    def read_data():\n",
    "        for voter_id, candidate_id in self.data_stream:\n",
    "            if voter_id in self.voters:\n",
    "                self.report_fraud(voter_id)\n",
    "            else:\n",
    "                self.voters.add(voter_id)\n",
    "                self.tally[candidate_id] += 1\n",
    "        self.stream_done = True\n",
    "    \n",
    "    def report_fraud(self, voter_id):\n",
    "        self.frauds.append(voter_id)\n",
    "    \n",
    "    def get_top_candidates(self):\n",
    "        while not self.stream_done:\n",
    "            time.sleep(self.poll_interval)\n",
    "\n",
    "            heap = []\n",
    "            for candidate, votes in self.tally.items():\n",
    "                heapq.heappush(heap, (-votes, candidate))\n",
    "\n",
    "            for i in range(1, self.k + 1):\n",
    "                candidate = heapq.heappop(heap)[1]\n",
    "                print(\"#{} candidate:\".format(i), candidate)"
   ]
  },
  {
   "cell_type": "code",
   "execution_count": null,
   "metadata": {},
   "outputs": [],
   "source": []
  }
 ],
 "metadata": {
  "kernelspec": {
   "display_name": "Python 3",
   "language": "python",
   "name": "python3"
  },
  "language_info": {
   "codemirror_mode": {
    "name": "ipython",
    "version": 3
   },
   "file_extension": ".py",
   "mimetype": "text/x-python",
   "name": "python",
   "nbconvert_exporter": "python",
   "pygments_lexer": "ipython3",
   "version": "3.7.0"
  }
 },
 "nbformat": 4,
 "nbformat_minor": 2
}
