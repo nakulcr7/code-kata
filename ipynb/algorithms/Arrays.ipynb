{
 "cells": [
  {
   "cell_type": "markdown",
   "metadata": {},
   "source": [
    "# Arrays"
   ]
  },
  {
   "cell_type": "markdown",
   "metadata": {},
   "source": [
    "### 1. You are given an array representing the heights of neighboring buildings on a city street, from east to west. The city assessor would like you to write an algorithm that returns how many of these buildings have a view of the setting sun, in order to properly value the street.\n",
    "\n",
    "### For example, given the array [3, 7, 8, 3, 6, 1], you should return 3, since the top floors of the buildings with heights 8, 6, and 1 all have an unobstructed view to the west. \n",
    "\n",
    "### Can you do this using just one forward pass through the array?\n",
    "\n",
    "#### Source: MailChimp"
   ]
  },
  {
   "cell_type": "code",
   "execution_count": 1,
   "metadata": {},
   "outputs": [],
   "source": [
    "\"\"\"\n",
    "Goal: Find the number of buildings that have an unobstructed view of the sunset\n",
    "\n",
    "Input: List[Int]\n",
    "\n",
    "Output: Int\n",
    "\n",
    "Example:\n",
    "    - [3, 7, 8, 3, 6, 1] => 3\n",
    "\n",
    "Constraints:\n",
    "    - Time: O(N)\n",
    "\n",
    "Ideas:\n",
    "    1. Iterate in reverse and keep track of tallest building seen so far\n",
    "\"\"\"\n",
    "def sunset_views(buildings):\n",
    "    if not buildings:\n",
    "        return 0\n",
    "    count = 0\n",
    "    tallest_so_far = float(\"-inf\")\n",
    "    \n",
    "    for i in range(len(buildings) - 1, -1, -1):\n",
    "        if buildings[i] > tallest_so_far:\n",
    "            count += 1\n",
    "        tallest_so_far = max(tallest_so_far, buildings[i])\n",
    "    \n",
    "    return count\n",
    "\n",
    "# Tests\n",
    "assert 3 == sunset_views([3, 7, 8, 3, 6, 1])"
   ]
  },
  {
   "cell_type": "markdown",
   "metadata": {},
   "source": [
    "Another solution using stacks is implemented as `problem 1` under Stacks & Queues."
   ]
  },
  {
   "cell_type": "markdown",
   "metadata": {},
   "source": [
    "**2. A girl is walking along an apple orchard with a bag in each hand. She likes to pick apples from each tree as she goes along, but is meticulous about not putting different kinds of apples in the same bag.**\n",
    "\n",
    "**Given an input describing the types of apples she will pass on her path, in order, determine the length of the longest portion of her path that consists of just two types of apple trees.**\n",
    "\n",
    "**For example, given the input `[2, 1, 2, 3, 3, 1, 3, 5]`, the longest portion will involve types 1 and 3, with a length of four.**"
   ]
  },
  {
   "cell_type": "code",
   "execution_count": 5,
   "metadata": {},
   "outputs": [],
   "source": [
    "def pick_fruit(trees):\n",
    "    a, b = trees[0], trees[1]\n",
    "    last_picked = b\n",
    "    last_picked_count = (a == b)\n",
    "    max_length_path = curr = 1\n",
    "    \n",
    "    for tree in trees[1:]:\n",
    "        if tree not in (a,b):\n",
    "            a, b = last_picked, tree\n",
    "            last_picked = tree\n",
    "            curr = last_picked_count + 1\n",
    "        else:\n",
    "            curr += 1\n",
    "            if last_picked == tree:\n",
    "                last_picked_count += 1\n",
    "            else:\n",
    "                last_picked = tree\n",
    "                last_picked_count = 1\n",
    "        max_length_path = max(curr, max_length_path)\n",
    "    \n",
    "    return max_length_path\n",
    "                \n",
    "# Tests\n",
    "assert pick_fruit([2, 1, 2, 3, 3, 1, 3, 5]) == 4"
   ]
  }
 ],
 "metadata": {
  "kernelspec": {
   "display_name": "Python 3",
   "language": "python",
   "name": "python3"
  },
  "language_info": {
   "codemirror_mode": {
    "name": "ipython",
    "version": 3
   },
   "file_extension": ".py",
   "mimetype": "text/x-python",
   "name": "python",
   "nbconvert_exporter": "python",
   "pygments_lexer": "ipython3",
   "version": "3.6.0"
  }
 },
 "nbformat": 4,
 "nbformat_minor": 2
}
