{
 "cells": [
  {
   "cell_type": "markdown",
   "metadata": {},
   "source": [
    "# Arrays"
   ]
  },
  {
   "cell_type": "markdown",
   "metadata": {},
   "source": [
    "### 1. You are given an array representing the heights of neighboring buildings on a city street, from east to west. The city assessor would like you to write an algorithm that returns how many of these buildings have a view of the setting sun, in order to properly value the street.\n",
    "\n",
    "### For example, given the array [3, 7, 8, 3, 6, 1], you should return 3, since the top floors of the buildings with heights 8, 6, and 1 all have an unobstructed view to the west. \n",
    "\n",
    "### Can you do this using just one forward pass through the array?\n",
    "\n",
    "#### Source: MailChimp"
   ]
  },
  {
   "cell_type": "code",
   "execution_count": 4,
   "metadata": {},
   "outputs": [],
   "source": [
    "\"\"\"\n",
    "Goal: Find the number of buildings that have an unobstructed view of the sunset\n",
    "\n",
    "Input: List[Int]\n",
    "\n",
    "Output: Int\n",
    "\n",
    "Example:\n",
    "    - [3, 7, 8, 3, 6, 1] => 3\n",
    "\n",
    "Constraints:\n",
    "    - Time: O(N)\n",
    "\n",
    "Ideas:\n",
    "    1. Iterate in reverse and keep track of tallest building seen so far\n",
    "\"\"\"\n",
    "def sunset_views(buildings):\n",
    "    if not buildings:\n",
    "        return 0\n",
    "    count = 0\n",
    "    tallest_so_far = float(\"-inf\")\n",
    "    \n",
    "    for i in range(len(buildings) - 1, -1, -1):\n",
    "        if buildings[i] > tallest_so_far:\n",
    "            count += 1\n",
    "        tallest_so_far = max(tallest_so_far, buildings[i])\n",
    "    \n",
    "    return count\n",
    "\n",
    "# Tests\n",
    "assert 3 == sunset_views([3, 7, 8, 3, 6, 1])"
   ]
  }
 ],
 "metadata": {
  "kernelspec": {
   "display_name": "Python 3",
   "language": "python",
   "name": "python3"
  },
  "language_info": {
   "codemirror_mode": {
    "name": "ipython",
    "version": 3
   },
   "file_extension": ".py",
   "mimetype": "text/x-python",
   "name": "python",
   "nbconvert_exporter": "python",
   "pygments_lexer": "ipython3",
   "version": "3.7.0"
  }
 },
 "nbformat": 4,
 "nbformat_minor": 2
}
