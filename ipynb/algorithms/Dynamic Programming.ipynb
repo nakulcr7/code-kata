{
 "cells": [
  {
   "cell_type": "markdown",
   "metadata": {},
   "source": [
    "# Dynamic Programming"
   ]
  },
  {
   "cell_type": "markdown",
   "metadata": {},
   "source": [
    "### 1. Write a function, throw_dice(N, faces, total), that determines how many ways it is possible to throw N dice with some number of faces each to get a specific total. For example, throw_dice(3, 6, 7) should equal 15.\n",
    "\n"
   ]
  },
  {
   "cell_type": "markdown",
   "metadata": {},
   "source": [
    "#### Source: Spotify"
   ]
  },
  {
   "cell_type": "code",
   "execution_count": 11,
   "metadata": {},
   "outputs": [],
   "source": [
    "\"\"\"\n",
    "Input: Int, Int, Int\n",
    "\n",
    "Output: Int\n",
    "\n",
    "Examples:\n",
    "1. (3, 6, 7) => 15\n",
    "\n",
    "Constraints:\n",
    "None that I know of\n",
    "\n",
    "Ideas:\n",
    "1. Recursion. Time: O(M^N), where M = # of faces\n",
    "2. DP. Time: O(M*N*total)\n",
    "\"\"\"\n",
    "\n",
    "def throw_dice_recursion(N, faces, total):\n",
    "    \"\"\"Returns the number of possible ways to throw N `faces`-faced die\n",
    "       that sums to `total`.\n",
    "    \"\"\"\n",
    "    if N == 1:\n",
    "        return 1 if total <= faces else 0\n",
    "    \n",
    "    ways = 0\n",
    "    for face in range(1, min(total, faces + 1)):\n",
    "        ways += throw_dice_recursion(N - 1, faces, total - face)\n",
    "    \n",
    "    return ways\n",
    "\n",
    "def throw_dice_dp(N, faces, total):\n",
    "    \"\"\"Returns the number of possible ways to throw N `faces`-faced die\n",
    "       that sums to `total`.\n",
    "    \"\"\"\n",
    "    # Initialize cache\n",
    "    cache = [[0 for _ in range(total + 1)] for _ in range(N)]\n",
    "    \n",
    "    # Initialize base row and column\n",
    "    for t in range(1, total + 1):\n",
    "        cache[0][t] = 1 if t <= faces else 0\n",
    "    \n",
    "    # Populate cache\n",
    "    for dice in range(1, N):\n",
    "        for t in range(1, total + 1):\n",
    "            for face in range(1, min(t, faces + 1)):\n",
    "                cache[dice][t] += cache[dice - 1][t - face]\n",
    "    \n",
    "    # Return goal cell\n",
    "    return cache[-1][-1]\n",
    "    \n",
    "\n",
    "# Tests\n",
    "args_1 = [3, 6, 7] \n",
    "assert throw_dice_recursion(*args_1) == 15\n",
    "assert throw_dice_dp(*args_1) == 15"
   ]
  }
 ],
 "metadata": {
  "kernelspec": {
   "display_name": "Python 3",
   "language": "python",
   "name": "python3"
  },
  "language_info": {
   "codemirror_mode": {
    "name": "ipython",
    "version": 3
   },
   "file_extension": ".py",
   "mimetype": "text/x-python",
   "name": "python",
   "nbconvert_exporter": "python",
   "pygments_lexer": "ipython3",
   "version": "3.7.0"
  }
 },
 "nbformat": 4,
 "nbformat_minor": 2
}
