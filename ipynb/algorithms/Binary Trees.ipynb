{
 "cells": [
  {
   "cell_type": "markdown",
   "metadata": {},
   "source": [
    "# Binary Trees"
   ]
  },
  {
   "cell_type": "markdown",
   "metadata": {},
   "source": [
    "## Common"
   ]
  },
  {
   "cell_type": "code",
   "execution_count": 1,
   "metadata": {},
   "outputs": [],
   "source": [
    "class BinaryTreeNode:\n",
    "    \"\"\"\n",
    "    Represents a node in a binary tree.\n",
    "    \"\"\"\n",
    "    def __init__(self, data, left=None, right=None):\n",
    "        self.data = data\n",
    "        self.left = left\n",
    "        self.right = right"
   ]
  },
  {
   "cell_type": "markdown",
   "metadata": {},
   "source": [
    "###  1. Two nodes in a binary tree can be called cousins if they are on the same level of the tree but have different parents. For example, in the following diagram 4 and 6 are cousins.\n",
    "\n",
    "```\n",
    "    1\n",
    "   / \\\n",
    "  2   3\n",
    " / \\   \\\n",
    "4   5   6\n",
    "```\n",
    "\n",
    "### Given a binary tree and a particular node, find all cousins of that node.\n",
    "\n",
    "#### Source: Yext"
   ]
  },
  {
   "cell_type": "code",
   "execution_count": 12,
   "metadata": {},
   "outputs": [],
   "source": [
    "\"\"\"\n",
    "Goal: Find cousins of a given node in a binary tree\n",
    "\n",
    "Input: BinaryTreeNode, BinaryTreeNode\n",
    "\n",
    "Output: List[Int]\n",
    "\n",
    "Examples:\n",
    "    - In the above tree, cousins of 4 should be [6]\n",
    "\n",
    "Constraints:\n",
    "    - Nodes in the tree are unique\n",
    "\n",
    "Ideas:\n",
    "    1. Level order traversal - Time: O(N), Space: O(N)\n",
    "\"\"\"\n",
    "def find_cousins(root, target_node):\n",
    "    if not target_node or not root:\n",
    "        return []\n",
    "    if target_node is root or target_node in (root.left, root.right):\n",
    "        return []\n",
    "\n",
    "    cousins = []\n",
    "    curr_level = [child for child in (root.left, root.right) if child]\n",
    "    \n",
    "    while curr_level:\n",
    "        possible_cousins = []\n",
    "        for node in curr_level:\n",
    "            if target_node in (node.left, node.right):\n",
    "                continue\n",
    "            possible_cousins.extend([child.data for child in (node.left, node.right) if child and child.data])\n",
    "        curr_level = [child for node in curr_level for child in (node.left, node.right) if child]\n",
    "        if len(curr_level) > len(possible_cousins):\n",
    "            return possible_cousins\n",
    "\n",
    "    return []\n",
    "\n",
    "\n",
    "# Tests\n",
    "test_target_node = BinaryTreeNode(4)\n",
    "test_binary_tree = BinaryTreeNode(\n",
    "    data=1, \n",
    "    left=BinaryTreeNode(\n",
    "            data=2,\n",
    "            left=test_target_node,\n",
    "            right=BinaryTreeNode(5)\n",
    "    ),\n",
    "    right=BinaryTreeNode(\n",
    "        data=3,\n",
    "        right=BinaryTreeNode(\n",
    "            data=6\n",
    "        )\n",
    "    )\n",
    ")\n",
    "\n",
    "assert find_cousins(test_binary_tree, test_target_node) == [6]"
   ]
  },
  {
   "cell_type": "code",
   "execution_count": null,
   "metadata": {},
   "outputs": [],
   "source": []
  }
 ],
 "metadata": {
  "kernelspec": {
   "display_name": "Python 3",
   "language": "python",
   "name": "python3"
  },
  "language_info": {
   "codemirror_mode": {
    "name": "ipython",
    "version": 3
   },
   "file_extension": ".py",
   "mimetype": "text/x-python",
   "name": "python",
   "nbconvert_exporter": "python",
   "pygments_lexer": "ipython3",
   "version": "3.7.0"
  }
 },
 "nbformat": 4,
 "nbformat_minor": 2
}
