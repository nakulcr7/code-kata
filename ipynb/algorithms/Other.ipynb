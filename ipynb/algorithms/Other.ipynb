{
 "cells": [
  {
   "cell_type": "markdown",
   "metadata": {},
   "source": [
    "## Other"
   ]
  },
  {
   "cell_type": "markdown",
   "metadata": {},
   "source": [
    "**1. Implement a data structure which carries out the following operations without resizing the underlying array:**\n",
    "\n",
    "```\n",
    "add(value): Add a value to the set of values.\n",
    "check(value): Check whether a value is in the set.\n",
    "```\n",
    "\n",
    "**The check method may return occasional false positives (in other words, incorrectly identifying an element as part of the set), but should always correctly identify a true element.**"
   ]
  },
  {
   "cell_type": "code",
   "execution_count": null,
   "metadata": {},
   "outputs": [],
   "source": [
    "import hashlib\n",
    "\n",
    "class BloomFilter:\n",
    "    def __init__(self, n=1000, k=3):\n",
    "        self.array = [False] * n\n",
    "        self.hash_algorithms = [\n",
    "            hashlib.md5,\n",
    "            hashlib.sha1,\n",
    "            hashlib.sha256,\n",
    "            hashlib.sha384,\n",
    "            hashlib.sha512\n",
    "        ]\n",
    "        self.hashes = [self.get_hash(f) for f in self.hash_algorithms[:k]]\n",
    "        \n",
    "    def get_hash(self, f):\n",
    "        def hash_function(value):\n",
    "            h = f(str(value).encode(\"utf-8\")).hexdigest()\n",
    "            return int(h, 16) % len(self.array)\n",
    "        return hash_function\n",
    "    \n",
    "    def add(self, value):\n",
    "        for h in self.hashes:\n",
    "            v = h(value)\n",
    "            self.array[v] = True\n",
    "    \n",
    "    def check(self, value):\n",
    "        for h in self.hashes:\n",
    "            v = h(value)\n",
    "            if not self.array[v]:\n",
    "                return False\n",
    "        return True"
   ]
  }
 ],
 "metadata": {
  "kernelspec": {
   "display_name": "Python 3",
   "language": "python",
   "name": "python3"
  },
  "language_info": {
   "codemirror_mode": {
    "name": "ipython",
    "version": 3
   },
   "file_extension": ".py",
   "mimetype": "text/x-python",
   "name": "python",
   "nbconvert_exporter": "python",
   "pygments_lexer": "ipython3",
   "version": "3.7.0"
  }
 },
 "nbformat": 4,
 "nbformat_minor": 2
}
