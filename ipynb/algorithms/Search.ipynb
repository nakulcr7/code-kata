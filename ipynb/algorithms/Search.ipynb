{
 "cells": [
  {
   "cell_type": "markdown",
   "metadata": {},
   "source": [
    "# Search"
   ]
  },
  {
   "cell_type": "markdown",
   "metadata": {},
   "source": [
    "## Helper functions"
   ]
  },
  {
   "cell_type": "code",
   "execution_count": 1,
   "metadata": {},
   "outputs": [],
   "source": [
    "# Functions\n",
    "def binary_search(L, x):\n",
    "    \"\"\"Performs binary search and returns x's index in L if it exists.\"\"\"\n",
    "    lo, hi = 0, len(L) - 1\n",
    "    while lo <= hi:\n",
    "        mid = (lo + hi) // 2\n",
    "        if x < L[mid]:\n",
    "            hi = mid - 1\n",
    "        elif x == L[mid]:\n",
    "            return mid\n",
    "        else:\n",
    "            lo = mid + 1\n",
    "    return None\n",
    "\n",
    "# Tests\n",
    "def helper_tests():\n",
    "    # binary_search\n",
    "    assert binary_search([1, 2, 3, 4, 5], 4) == 3\n",
    "    assert binary_search([1, 2, 3, 4, 5], 1) == 0\n",
    "    assert binary_search([1, 2, 3, 4, 5], 5) == 4\n",
    "    assert not binary_search([1, 2, 3, 4, 5], 10)\n",
    "\n",
    "helper_tests()"
   ]
  },
  {
   "cell_type": "markdown",
   "metadata": {},
   "source": [
    "#### 1. Given a sorted list of integers of length `N`, determine if an element `x` is in the list without performing any multiplication, division, or bit-shift operations. Do this in `O(log N)` time.\n",
    "\n",
    "#### Source: Netflix"
   ]
  },
  {
   "cell_type": "code",
   "execution_count": 3,
   "metadata": {},
   "outputs": [],
   "source": [
    "\"\"\"\n",
    "Goal: Find out if a given number is present in a given list of integers\n",
    "\n",
    "Input: Sorted List[Int], Int\n",
    "\n",
    "Output: Bool\n",
    "\n",
    "Examples:\n",
    "1. [5, 6, 7, 8], 7 => True\n",
    "2. [5, 6, 7, 8], 9 => False\n",
    "\n",
    "Constraints:\n",
    "Time: O(log N)\n",
    "\n",
    "Algorithms:\n",
    "1. Binary Search. Time: O(log N), Space: O(1)\n",
    "\"\"\"\n",
    "\n",
    "def search_sorted_list(L, x):\n",
    "    \"\"\"Returns True if `x` exists in `L`, and False otherwise.\n",
    "    \n",
    "    Args:\n",
    "        L -- Sorted list of integers\n",
    "        n -- integer to search for in L\n",
    "    \n",
    "    Returns:\n",
    "        True if `x` exists in `L`, and False otherwise.\n",
    "        \n",
    "    Invariant:\n",
    "        Time complexity is O(n)\n",
    "    \"\"\"\n",
    "    return binary_search(L, x) is not None\n",
    "\n",
    "# Tests\n",
    "assert search_sorted_list([5, 6, 7, 8], 7)\n",
    "assert not search_sorted_list([5, 6, 7, 8], 9)"
   ]
  },
  {
   "cell_type": "markdown",
   "metadata": {},
   "source": [
    "#### 2. A fixed point in an array is an element whose value is equal to its index. Given a sorted array of distinct elements, return a fixed point, if one exists. Otherwise, return False. \n",
    "\n",
    "#### For example, \n",
    "- Given `[-6, 0, 2, 40]`, you should return `2`. \n",
    "- Given `[1, 5, 7, 8]`, you should return `False`.\n",
    "\n",
    "#### Source: Apple"
   ]
  },
  {
   "cell_type": "code",
   "execution_count": null,
   "metadata": {},
   "outputs": [],
   "source": [
    "\"\"\"\n",
    "Input: Sorted List[Int]\n",
    "\n",
    "Output: Int/Bool\n",
    "\n",
    "Examples:\n",
    "([-6, 0, 2, 40]) => 2\n",
    "([1, 5, 7, 8]) => False\n",
    "\n",
    "Constraints:\n",
    "None that I know of\n",
    "\n",
    "Ideas:\n",
    "1. List iteration. Time: O(N) Space: O(1)\n",
    "2. Binary Search. Time: O(log N) Space: O(1)\n",
    "\"\"\"\n",
    "\n",
    "def fixed_point(L):\n",
    "    \"\"\"Returns a fixed point in the array if it exists, False otherwise.\"\"\"\n",
    "    lo, hi = 0, len(L) - 1\n",
    "    while lo <= hi:\n",
    "        mid = (lo + hi) // 2\n",
    "        if mid == L[mid]:\n",
    "            return mid\n",
    "        elif mid < L[mid]:\n",
    "            hi = mid - 1\n",
    "        else:\n",
    "            lo = mid + 1\n",
    "    return False\n",
    "\n",
    "\n",
    "# Tests\n",
    "assert fixed_point([-6, 0, 2, 40]) == 2\n",
    "assert fixed_point([1, 5, 7, 8]) is False    "
   ]
  }
 ],
 "metadata": {
  "kernelspec": {
   "display_name": "Python 3",
   "language": "python",
   "name": "python3"
  },
  "language_info": {
   "codemirror_mode": {
    "name": "ipython",
    "version": 3
   },
   "file_extension": ".py",
   "mimetype": "text/x-python",
   "name": "python",
   "nbconvert_exporter": "python",
   "pygments_lexer": "ipython3",
   "version": "3.7.0"
  }
 },
 "nbformat": 4,
 "nbformat_minor": 2
}
